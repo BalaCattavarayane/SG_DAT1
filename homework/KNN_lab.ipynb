{
 "cells": [
  {
   "cell_type": "markdown",
   "metadata": {},
   "source": [
    "## K-Nearest Neighbors Lab"
   ]
  },
  {
   "cell_type": "markdown",
   "metadata": {},
   "source": [
    "### Setup"
   ]
  },
  {
   "cell_type": "code",
   "execution_count": 1,
   "metadata": {
    "collapsed": true
   },
   "outputs": [],
   "source": [
    "import pandas as pd\n",
    "import numpy as np\n",
    "from datetime import datetime"
   ]
  },
  {
   "cell_type": "markdown",
   "metadata": {},
   "source": [
    "**Question** Do you recall how the euclidean distance between two points is calculated? Type in your answer below, and remember to convert it to Markdown."
   ]
  },
  {
   "cell_type": "code",
   "execution_count": null,
   "metadata": {
    "collapsed": true
   },
   "outputs": [],
   "source": []
  },
  {
   "cell_type": "markdown",
   "metadata": {},
   "source": [
    "We will need a euclidean_distance_algorithm that takes in two numpy arrays, and calculates the euclidean distance between them."
   ]
  },
  {
   "cell_type": "code",
   "execution_count": null,
   "metadata": {
    "collapsed": true
   },
   "outputs": [],
   "source": [
    "def euclidean_distance(np1, np2):\n",
    "    return # <FILL IN>\n",
    "    # Hint: Use a Numpy Linear Algebra function, keeping in mind the synonym for Euclidean distance"
   ]
  },
  {
   "cell_type": "markdown",
   "metadata": {},
   "source": [
    "Bring in the iris data from the web\n",
    "\n",
    "iris_data == 2D numpy array of the four predictors of iris plus the species"
   ]
  },
  {
   "cell_type": "code",
   "execution_count": null,
   "metadata": {
    "collapsed": true
   },
   "outputs": [],
   "source": [
    "iris_data = pd.read_csv('https://raw.githubusercontent.com/misrab/SG_DAT1/master/data/iris.csv')"
   ]
  },
  {
   "cell_type": "markdown",
   "metadata": {},
   "source": [
    "iris_data is a dataframe, but let's turn it into a 2D numpy array\n",
    "\n",
    "Hint: use .values to turn a dataframe into a 2d array"
   ]
  },
  {
   "cell_type": "code",
   "execution_count": null,
   "metadata": {
    "collapsed": true
   },
   "outputs": [],
   "source": [
    "iris_data = iris_data.values()"
   ]
  },
  {
   "cell_type": "markdown",
   "metadata": {},
   "source": [
    "**Question** In terms of machine learning:\n",
    "1. What would the first four columns be called?\n",
    "2. What would the species column be called?"
   ]
  },
  {
   "cell_type": "code",
   "execution_count": null,
   "metadata": {
    "collapsed": true
   },
   "outputs": [],
   "source": []
  },
  {
   "cell_type": "code",
   "execution_count": null,
   "metadata": {
    "collapsed": true
   },
   "outputs": [],
   "source": []
  },
  {
   "cell_type": "markdown",
   "metadata": {},
   "source": [
    "Let's take a peek at the data, before we move further."
   ]
  },
  {
   "cell_type": "code",
   "execution_count": null,
   "metadata": {
    "collapsed": true
   },
   "outputs": [],
   "source": [
    "iris_data"
   ]
  },
  {
   "cell_type": "markdown",
   "metadata": {},
   "source": [
    "### Predictions"
   ]
  },
  {
   "cell_type": "markdown",
   "metadata": {},
   "source": [
    "Before we jump into making a general function, let's try to predict an unknown speciment with the values [ 6.3,  3.1 ,  5.1,  2.4], looking at k=3 neighbours\n",
    "\n",
    "Let's define the variables first."
   ]
  },
  {
   "cell_type": "code",
   "execution_count": null,
   "metadata": {
    "collapsed": true
   },
   "outputs": [],
   "source": [
    "unknown = [ 6.3,  3.1 ,  5.1,  2.4]\n",
    "k = 3"
   ]
  },
  {
   "cell_type": "markdown",
   "metadata": {},
   "source": [
    "Make a list of \"distances\" consisting of tuples. Each tuple should be (euc_distance(unknown, data_point), species) for each data_point in iris_data.\n",
    "\n",
    "Hints: Loop through the rows. Eyeball through the data. The data points in each case are in the range 4 elements from the left in each row, or equivalently before the last elements in each row. The species is always the last element in each row.\n",
    "\n",
    "If you'd like, you can also loop through the rows, and append the calculations to an array.\n",
    "\n",
    "As you can see, there are multiple ways to do this, so pick whichever suits you best!"
   ]
  },
  {
   "cell_type": "code",
   "execution_count": 3,
   "metadata": {
    "collapsed": true
   },
   "outputs": [],
   "source": [
    "distances = [] # <FILL IN>"
   ]
  },
  {
   "cell_type": "code",
   "execution_count": null,
   "metadata": {
    "collapsed": true
   },
   "outputs": [],
   "source": [
    "distances"
   ]
  },
  {
   "cell_type": "markdown",
   "metadata": {},
   "source": [
    "Grab the nearest k neighbours.\n",
    "\n",
    "Hint: Sort the distances (ascending), and then only consider the 'k' lowest distances (recall that k=3 in this case)."
   ]
  },
  {
   "cell_type": "code",
   "execution_count": null,
   "metadata": {
    "collapsed": true
   },
   "outputs": [],
   "source": [
    "nearest = [] # <FILL IN>"
   ]
  },
  {
   "cell_type": "markdown",
   "metadata": {},
   "source": [
    "Now we need to take the most frequently occuring flower in those k neighbors.\n",
    "\n",
    "To do this, we will use the collections module. Give a list 'l', the following code will spit back the mode:"
   ]
  },
  {
   "cell_type": "code",
   "execution_count": null,
   "metadata": {
    "collapsed": true
   },
   "outputs": [],
   "source": [
    "from collections import Counter\n",
    "l = [1,2,3,4,3,2,2,5,8,2,2,2,5,9,2,2,5,5,3,2]\n",
    "Counter(l).most_common(1)[0][0] # == 2"
   ]
  },
  {
   "cell_type": "markdown",
   "metadata": {},
   "source": [
    "Use it to find the most frequent occuring flower in the nearest neighbours (the 'nearest' array).\n",
    "\n",
    "Note that the species is in the 1th index now (it was in the 4th index in iris_data).\n",
    "\n",
    "Hint: Loop through all the elements in 'nearest', and find the mode."
   ]
  },
  {
   "cell_type": "code",
   "execution_count": null,
   "metadata": {
    "collapsed": true
   },
   "outputs": [],
   "source": [
    "prediction = 'insert flower here' # <FILL IN>"
   ]
  },
  {
   "cell_type": "markdown",
   "metadata": {},
   "source": [
    "Time to put it in a function so we can apply the prediction to each row in our data set!\n",
    "\n",
    "Hint: Combine all that we've done so far."
   ]
  },
  {
   "cell_type": "code",
   "execution_count": null,
   "metadata": {
    "collapsed": true
   },
   "outputs": [],
   "source": [
    "def predict(unknown, k = 3):\n",
    "    '''\n",
    "    Input:\n",
    "        unknown  == four attributes of an unknown flower\n",
    "        k        == the number of neighbors used\n",
    "    Output:\n",
    "        A prediction of the species of flower (str)\n",
    "    '''\n",
    "\n",
    "    return # <FILL IN>"
   ]
  },
  {
   "cell_type": "markdown",
   "metadata": {},
   "source": [
    "Let's try it out!"
   ]
  },
  {
   "cell_type": "code",
   "execution_count": null,
   "metadata": {
    "collapsed": true
   },
   "outputs": [],
   "source": [
    "predict([ 5.8,  2.7,  5.1,  1.9]) # = what?"
   ]
  },
  {
   "cell_type": "markdown",
   "metadata": {},
   "source": [
    "Putting it all together, we'll try to predict each row in the original Iris data, and see how our algorithms perform.\n",
    "\n",
    "Note we use row[-1] because the last element of each row in iris_data is the actual species."
   ]
  },
  {
   "cell_type": "code",
   "execution_count": null,
   "metadata": {
    "collapsed": true
   },
   "outputs": [],
   "source": [
    "predictions = np.array([predict(row[:4]) for row in iris_data])\n",
    "actual = np.array([row[-1] for row in iris_data])\n",
    "np.mean(predictions == actual) # accuracy of the model"
   ]
  },
  {
   "cell_type": "markdown",
   "metadata": {},
   "source": [
    "Let's try it with different values of k now, making sure to measure the processing time for each of the iterations."
   ]
  },
  {
   "cell_type": "code",
   "execution_count": null,
   "metadata": {
    "collapsed": true
   },
   "outputs": [],
   "source": [
    "start= datetime.now()\n",
    "predictions = np.array([predict(row[:4], k = 5) for row in iris_data])\n",
    "actual = np.array([row[-1] for row in iris_data])\n",
    "print np.mean(predictions == actual)\n",
    "print datetime.now() - start"
   ]
  },
  {
   "cell_type": "code",
   "execution_count": null,
   "metadata": {
    "collapsed": true
   },
   "outputs": [],
   "source": [
    "start= datetime.now()\n",
    "predictions = np.array([predict(row[:4], k = 2) for row in iris_data])\n",
    "actual = np.array([row[-1] for row in iris_data])\n",
    "print np.mean(predictions == actual)\n",
    "print datetime.now() - start"
   ]
  },
  {
   "cell_type": "markdown",
   "metadata": {},
   "source": [
    "**Question** To wrap this up, could you write a script which iterates through different values of 'k' from a list (for example, k = [1, 2, 5, 10, 25]), and returns the accuracy and processing times? You can store the values however you like, using a dataframe, an array, or another approach."
   ]
  },
  {
   "cell_type": "code",
   "execution_count": null,
   "metadata": {
    "collapsed": true
   },
   "outputs": [],
   "source": []
  }
 ],
 "metadata": {
  "kernelspec": {
   "display_name": "Python 2",
   "language": "python",
   "name": "python2"
  },
  "language_info": {
   "codemirror_mode": {
    "name": "ipython",
    "version": 2
   },
   "file_extension": ".py",
   "mimetype": "text/x-python",
   "name": "python",
   "nbconvert_exporter": "python",
   "pygments_lexer": "ipython2",
   "version": "2.7.11"
  }
 },
 "nbformat": 4,
 "nbformat_minor": 0
}
